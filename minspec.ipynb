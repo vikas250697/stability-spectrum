{
 "cells": [
  {
   "cell_type": "code",
   "execution_count": 2,
   "metadata": {
    "scrolled": true
   },
   "outputs": [
    {
     "name": "stdout",
     "output_type": "stream",
     "text": [
      "6\n",
      "48\n",
      "48.0\n",
      "[[0, 0, 0, 1, 1, 0, 0], [0, 0, 1, 1, 0, 0, 1], [0, 1, 0, 0, 1, 1, 0], [0, 1, 1, 0, 0, 1, 1], [1, 0, 0, 1, 1, 0, 0], [1, 0, 1, 1, 0, 0, 1], [1, 1, 0, 0, 1, 1, 0], [1, 1, 1, 0, 0, 1, 1]]\n"
     ]
    }
   ],
   "source": [
    "from math import comb\n",
    "\n",
    "# function (n choose r)\n",
    "def nCr(n,r):\n",
    "    if (n>=r)and(r>=0):\n",
    "        return comb(n,r)\n",
    "    else:\n",
    "        return 0\n",
    "\n",
    "\n",
    "n=int(input())\n",
    "\n",
    "# inputs = set of all symmetric Boolean function in n variables.\n",
    "l=n+1\n",
    "inputs=[]\n",
    "\n",
    "for i in range(2**l):\n",
    "    inputs.append(list(map(int, list(bin(i)[2:].zfill(l)))))\n",
    "\n",
    "\n",
    "\n",
    "Sf=[] # to store the maximum of the absolute values of stability spectrum transform each symmetric Boolean function.\n",
    "  \n",
    "for a in inputs:\n",
    "    tempSf=[] # for each symmetric function 'a', tempsf stores the absolute values of stability spectrum transform for each weight.\n",
    "    for i in range(n+1):\n",
    "        Sum=0\n",
    "        for k in range(n+1):\n",
    "            for j in range(k+1):\n",
    "                Sum=Sum+nCr(i,j)*nCr(n-i,k-j)*k*((-1)**(a[k]+j))\n",
    "        tempSf.append(abs(Sum))\n",
    "    Sf.append(max(tempSf))\n",
    "\n",
    "w=min(Sf) # stores the minimum of the maximum of the absolute values of stability spectrum transform of all symmetric Boolean function in n variables.\n",
    "print(w)\n",
    "\n",
    "min_sf=[] # stores all those symmetric Boolean functions whose maximum of the absolute values of stability spectrum transform is the minimum of the maximum of the absolute values of stability spectrum transform of all symmetric Boolean function in n variables.\n",
    "\n",
    "if n%2==0:\n",
    "    print(n*(2**((n)/2)))\n",
    "    for i in range(len(Sf)):\n",
    "        if Sf[i]==w:\n",
    "            min_sf.append(inputs[i])\n",
    "else:\n",
    "    print(n*(2**((n-1)/2)))\n",
    "    for i in range(len(Sf)):\n",
    "        if Sf[i]<=n*(2**((n-1)/2)):\n",
    "            min_sf.append(inputs[i])\n",
    "print(min_sf)\n",
    "\n"
   ]
  },
  {
   "cell_type": "code",
   "execution_count": null,
   "metadata": {},
   "outputs": [],
   "source": []
  }
 ],
 "metadata": {
  "kernelspec": {
   "display_name": "Python 3",
   "language": "python",
   "name": "python3"
  },
  "language_info": {
   "codemirror_mode": {
    "name": "ipython",
    "version": 3
   },
   "file_extension": ".py",
   "mimetype": "text/x-python",
   "name": "python",
   "nbconvert_exporter": "python",
   "pygments_lexer": "ipython3",
   "version": "3.8.3"
  }
 },
 "nbformat": 4,
 "nbformat_minor": 4
}
