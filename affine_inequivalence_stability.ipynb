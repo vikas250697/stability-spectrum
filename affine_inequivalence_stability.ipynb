{
 "cells": [
  {
   "cell_type": "code",
   "execution_count": 3,
   "metadata": {
    "scrolled": true
   },
   "outputs": [
    {
     "name": "stdout",
     "output_type": "stream",
     "text": [
      "6\n",
      "input the truth table of n variable boolean function in increasing order of weights:\n",
      "1\n",
      "1\n",
      "0\n",
      "0\n",
      "0\n",
      "0\n",
      "1\n",
      "168 -28\n",
      "152 -44\n"
     ]
    }
   ],
   "source": [
    "import math\n",
    "import pandas as pd\n",
    "import numpy as np\n",
    "import sympy\n",
    "from sympy import fwht\n",
    "import random\n",
    "\n",
    "n=int(input())\n",
    "\n",
    "I=[] # stores all binary tuples of lenght n.\n",
    "for i in range(2**n):\n",
    "    I.append(list(map(int, list(bin(i)[2:].zfill(n)))))\n",
    "\n",
    "def num(u): # returns the decimal equivalent of binary n tuple.\n",
    "    l=len(u)-1\n",
    "    dec=0\n",
    "    for i in u:\n",
    "        dec=dec+(i*(2**l))\n",
    "        l=l-1\n",
    "    return dec\n",
    "\n",
    "def wt(x): # returns the weight of binary n tuple.\n",
    "    wt=0\n",
    "    for i in x:\n",
    "        wt=wt+i\n",
    "    return wt\n",
    "\n",
    "# matrix B is orthogonal over F2 but does not preserve weight.\n",
    "B = [[1,1,1,0,0,0],[1,1,0,1,0,0],[1,0,1,1,0,0],[0,1,1,1,0,0],[0,0,0,0,1,0],[0,0,0,0,0,1]]\n",
    "\n",
    "\n",
    "BI = [] # stores the ordered space {Bx : x in I}\n",
    "\n",
    "for x in I:\n",
    "    temp = []\n",
    "    for i in range(n):\n",
    "        temp.append(np.inner(B[i],x)%2)\n",
    "    BI.append(temp)\n",
    "\n",
    "\n",
    "Sf = [] # stores stability spectrum for the given function f.\n",
    "Sg = [] # stores the stability spectrum for the function g defined by g(x) = f(Bx).\n",
    "\n",
    "f= [] # stores truth table of function f. \n",
    "\n",
    "# for convinience we have taken f to be symmetric Boolean function.\n",
    "\n",
    "temp_f = [] # stores output of f at different weights, i.e., temp_f = re(f).\n",
    "print(\"input the truth table of n variable boolean function in increasing order of weights:\")\n",
    "for i in range(n+1):\n",
    "    temp_f.append(int(input()))\n",
    "\n",
    "\n",
    "for x in I:\n",
    "    f.append(temp_f[wt(x)]) # gives the complete truth table of f from temp_f.\n",
    "    \n",
    "# here we compute the stability spectrum of f and g.\n",
    "for a in I:\n",
    "    Sum1=0\n",
    "    Sum2=0\n",
    "    for y in range(2**n):\n",
    "        temp_sum1 = f[y]+(np.inner(a,I[y])%2)\n",
    "        Sum1=Sum1+(wt(I[y])*(-1)**temp_sum1)\n",
    "        temp_sum2 = f[num(BI[y])]+(np.inner(a,I[y])%2)\n",
    "        Sum2=Sum2+(wt(I[y])*(-1)**temp_sum2)\n",
    "  \n",
    "    Sf.append(Sum1)\n",
    "    Sg.append(Sum2)\n",
    "\n",
    "print(max(Sf),min(Sf))\n",
    "print(max(Sg),min(Sg))\n",
    "    "
   ]
  },
  {
   "cell_type": "code",
   "execution_count": null,
   "metadata": {},
   "outputs": [],
   "source": []
  }
 ],
 "metadata": {
  "kernelspec": {
   "display_name": "Python 3",
   "language": "python",
   "name": "python3"
  },
  "language_info": {
   "codemirror_mode": {
    "name": "ipython",
    "version": 3
   },
   "file_extension": ".py",
   "mimetype": "text/x-python",
   "name": "python",
   "nbconvert_exporter": "python",
   "pygments_lexer": "ipython3",
   "version": "3.8.3"
  }
 },
 "nbformat": 4,
 "nbformat_minor": 4
}
