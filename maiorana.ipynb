{
 "cells": [
  {
   "cell_type": "code",
   "execution_count": 3,
   "metadata": {},
   "outputs": [
    {
     "name": "stdout",
     "output_type": "stream",
     "text": [
      "112\n",
      "128\n"
     ]
    }
   ],
   "source": [
    "import numpy as np\n",
    "import math\n",
    "\n",
    "n = 4\n",
    "m = 2*n\n",
    "def weight(x): # returns weight of binary n tuple\n",
    "    wt=0\n",
    "    for i in x:\n",
    "        wt=wt+i\n",
    "    return wt\n",
    "\n",
    "I = [] # stores all binary tuples of lenght n.\n",
    "for i in range(2**n):\n",
    "    I.append(list(map(int, list(bin(i)[2:].zfill(n)))))\n",
    "\n",
    "A = [] # stores all binary tuples of lenght n.\n",
    "for i in range(2**n):\n",
    "    A.append(list(map(int, list(bin(i)[2:].zfill(n)))))\n",
    "    \n",
    "\n",
    "def permute(A, P, l): # permutes the given list.\n",
    "    for i in range(l):\n",
    "        next = i\n",
    "        while (P[next] >= 0):\n",
    "            t = A[i]\n",
    "            A[i] = A[P[next]]\n",
    "            A[P[next]] = t\n",
    "            temp = P[next]\n",
    "            P[next] -= l\n",
    "            next = temp\n",
    "\n",
    "P = [5,6,12,8,4,0,15,2,3,10,1,14,13,11,9,7] # permutation on F_2^4.\n",
    "l= len(A)\n",
    "permute(A, P, l)\n",
    "\n",
    "\n",
    "Sf = [] # stores the absolute values of the stability spectrum transform.\n",
    "\n",
    "for u in I:\n",
    "    for v in I:\n",
    "        Sum=0\n",
    "        for i in range(2**n):\n",
    "            for j in range(2**n):\n",
    "                temp_sum = np.inner(I[i],A[j]) + np.inner(u,I[i]) + np.inner(v,I[j])\n",
    "                wt=weight(I[i])+weight(I[j])\n",
    "                Sum=Sum+(wt*((-1)**temp_sum))\n",
    "        Sf.append(abs(Sum))\n",
    "\n",
    "print(max(Sf))\n",
    "print(m*(2**(m//2)))"
   ]
  }
 ],
 "metadata": {
  "kernelspec": {
   "display_name": "Python 3",
   "language": "python",
   "name": "python3"
  },
  "language_info": {
   "codemirror_mode": {
    "name": "ipython",
    "version": 3
   },
   "file_extension": ".py",
   "mimetype": "text/x-python",
   "name": "python",
   "nbconvert_exporter": "python",
   "pygments_lexer": "ipython3",
   "version": "3.8.3"
  }
 },
 "nbformat": 4,
 "nbformat_minor": 4
}
